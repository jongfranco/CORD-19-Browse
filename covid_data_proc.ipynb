{
 "cells": [
  {
   "cell_type": "code",
   "execution_count": 1,
   "metadata": {},
   "outputs": [],
   "source": [
    "from zipfile import ZipFile\n",
    "from io import BytesIO\n",
    "import json\n",
    "import glob\n",
    "import urllib\n",
    "\n",
    "import matplotlib.pyplot as plt\n",
    "import pandas as pd\n",
    "import numpy as np\n",
    "\n",
    "from gensim.scripts.glove2word2vec import glove2word2vec\n",
    "from gensim.models import KeyedVectors\n",
    "from tensorflow.keras.preprocessing.text import Tokenizer\n",
    "from scipy.spatial.distance import pdist, cdist, squareform\n",
    "from sklearn.decomposition import PCA\n"
   ]
  },
  {
   "cell_type": "code",
   "execution_count": 19,
   "metadata": {},
   "outputs": [],
   "source": [
    "# GLOBAL VARS\n",
    "GLOVE_URL = 'http://nlp.stanford.edu/data/glove.6B.zip'\n",
    "EMBEDDING_DIM = 100\n",
    "DATA_FILE = \"datafile.csv\"\n",
    "DATA_URL = \"https://raw.githubusercontent.com/sagarkar10/Covid19/master/poc_data.csv\"\n",
    "\n",
    "# Derived Vars\n",
    "embeddings_file = 'glove.6B.{0}d.txt'.format(EMBEDDING_DIM)\n",
    "word2vec_output_file = 'resources/{0}.word2vec'.format(embeddings_file)\n"
   ]
  },
  {
   "cell_type": "code",
   "execution_count": 168,
   "metadata": {},
   "outputs": [],
   "source": [
    "# # using only biorxiv_medrxiv for POC, write data from csv\n",
    "# fl = glob.glob(\"../data/biorxiv_medrxiv/biorxiv_medrxiv/*.json\")\n",
    "\n",
    "# def get_data_v1(fl):\n",
    "#     aggregator = []\n",
    "#     for each in fl:\n",
    "#         with open(each, \"r\") as fr:\n",
    "#             data = json.load(fr)\n",
    "#             paper_id = data.get(\"paper_id\")\n",
    "#             title = data.get(\"metadata\").get(\"title\")\n",
    "#             abstract = ''.join([x.get(\"text\") for x in data.get(\"abstract\")])\n",
    "#             # abstract paragraphs may not be in order, ignoring that fact.\n",
    "#             aggregator.append({\"paper_id\":paper_id, \"title\":title, \"abstract\":abstract})\n",
    "#     return pd.DataFrame(aggregator)\n",
    "# df = get_data_v1(fl)\n",
    "# df.to_csv(\"data.csv\", index=False)\n",
    "\n",
    "# # generate glove files\n",
    "# resp = urllib.request.urlopen(GLOVE_URL)\n",
    "# zipfile = ZipFile(BytesIO(resp.read()))\n",
    "# print(zipfile.namelist())\n",
    "\n",
    "# # Write embeddings to file\n",
    "# zipfile.extract(embeddings_file)\n",
    "# glove2word2vec(embeddings_file, word2vec_output_file)"
   ]
  },
  {
   "cell_type": "code",
   "execution_count": 20,
   "metadata": {},
   "outputs": [],
   "source": [
    "glove = KeyedVectors.load_word2vec_format(word2vec_output_file, binary=False)"
   ]
  },
  {
   "cell_type": "code",
   "execution_count": 68,
   "metadata": {},
   "outputs": [],
   "source": [
    "# Load data from GitHub to this notebook's local drive\n",
    "response = urllib.request.urlopen(DATA_URL)\n",
    "html = response.read()\n",
    "with open(DATA_FILE, 'wb') as fp:\n",
    "    fp.write(html)\n",
    "df = pd.read_csv(DATA_FILE)"
   ]
  },
  {
   "cell_type": "code",
   "execution_count": 69,
   "metadata": {},
   "outputs": [
    {
     "data": {
      "text/html": [
       "<div>\n",
       "<style scoped>\n",
       "    .dataframe tbody tr th:only-of-type {\n",
       "        vertical-align: middle;\n",
       "    }\n",
       "\n",
       "    .dataframe tbody tr th {\n",
       "        vertical-align: top;\n",
       "    }\n",
       "\n",
       "    .dataframe thead th {\n",
       "        text-align: right;\n",
       "    }\n",
       "</style>\n",
       "<table border=\"1\" class=\"dataframe\">\n",
       "  <thead>\n",
       "    <tr style=\"text-align: right;\">\n",
       "      <th></th>\n",
       "      <th>abstract</th>\n",
       "      <th>paper_id</th>\n",
       "      <th>title</th>\n",
       "    </tr>\n",
       "  </thead>\n",
       "  <tbody>\n",
       "    <tr>\n",
       "      <th>0</th>\n",
       "      <td>New anti-AIDS treatments must be continually d...</td>\n",
       "      <td>f905f78b32f63c6d14a79984dfb33f1b358b8ab4</td>\n",
       "      <td>Multimerization of HIV-1 integrase hinges on c...</td>\n",
       "    </tr>\n",
       "    <tr>\n",
       "      <th>1</th>\n",
       "      <td>Rationale: Several studies have estimated basi...</td>\n",
       "      <td>abcfffafab399149d4adadd6bb458c4994e2025d</td>\n",
       "      <td>Time-varying transmission dynamics of Novel Co...</td>\n",
       "    </tr>\n",
       "    <tr>\n",
       "      <th>2</th>\n",
       "      <td>Summary Statement: DUX4 is thought to mediate ...</td>\n",
       "      <td>0cb9c296684ca5e71462d825cab2827854a01544</td>\n",
       "      <td>p53 is not necessary for DUX4 pathology</td>\n",
       "    </tr>\n",
       "    <tr>\n",
       "      <th>3</th>\n",
       "      <td>emerged in late 2019 1,2 . Initial outbreaks i...</td>\n",
       "      <td>9bbfd3d34ee18ea1b9f4669331a6cee9c5992893</td>\n",
       "      <td>Virological assessment of hospitalized cases o...</td>\n",
       "    </tr>\n",
       "    <tr>\n",
       "      <th>4</th>\n",
       "      <td>A novel coronavirus (SARS-CoV-2) first detecte...</td>\n",
       "      <td>1218f278a4f8d83dac14b23c8f698062812ef9d5</td>\n",
       "      <td>Potential impact of seasonal forcing on a SARS...</td>\n",
       "    </tr>\n",
       "  </tbody>\n",
       "</table>\n",
       "</div>"
      ],
      "text/plain": [
       "                                            abstract  \\\n",
       "0  New anti-AIDS treatments must be continually d...   \n",
       "1  Rationale: Several studies have estimated basi...   \n",
       "2  Summary Statement: DUX4 is thought to mediate ...   \n",
       "3  emerged in late 2019 1,2 . Initial outbreaks i...   \n",
       "4  A novel coronavirus (SARS-CoV-2) first detecte...   \n",
       "\n",
       "                                   paper_id  \\\n",
       "0  f905f78b32f63c6d14a79984dfb33f1b358b8ab4   \n",
       "1  abcfffafab399149d4adadd6bb458c4994e2025d   \n",
       "2  0cb9c296684ca5e71462d825cab2827854a01544   \n",
       "3  9bbfd3d34ee18ea1b9f4669331a6cee9c5992893   \n",
       "4  1218f278a4f8d83dac14b23c8f698062812ef9d5   \n",
       "\n",
       "                                               title  \n",
       "0  Multimerization of HIV-1 integrase hinges on c...  \n",
       "1  Time-varying transmission dynamics of Novel Co...  \n",
       "2            p53 is not necessary for DUX4 pathology  \n",
       "3  Virological assessment of hospitalized cases o...  \n",
       "4  Potential impact of seasonal forcing on a SARS...  "
      ]
     },
     "execution_count": 69,
     "metadata": {},
     "output_type": "execute_result"
    }
   ],
   "source": [
    "df.head()"
   ]
  },
  {
   "cell_type": "code",
   "execution_count": 86,
   "metadata": {},
   "outputs": [],
   "source": [
    "with open(\"stopwords.txt\", 'r') as fp:\n",
    "    STOP_WORDS = fp.read().split('\\n')\n",
    "    \n",
    "def vectorize_sents(sents, g_em):\n",
    "    ret_sents = []\n",
    "    for each in sents:\n",
    "        ret_sents.append(vectorize_sent(each, g_em))\n",
    "    return ret_sents\n",
    "\n",
    "def vectorize_sent(sent, g_em):\n",
    "    sent_vec = np.zeros(EMBEDDING_DIM)\n",
    "    numw = 0\n",
    "    for w in sent:\n",
    "        if w.lower() in STOP_WORDS:\n",
    "            continue\n",
    "        try:\n",
    "            sent_vec = np.add(sent_vec, g_em.get_vector(w))\n",
    "            numw+=1\n",
    "        except:\n",
    "            pass\n",
    "    return sent_vec / np.sqrt(sent_vec.dot(sent_vec))\n",
    "\n",
    "def process_df(df, glove):\n",
    "    df = df.dropna()\n",
    "    df = df.drop(df[(df.title==\"\") | (df.abstract==\"\")].index).reset_index(drop=True)\n",
    "#     X = np.concatenate([df[~(df.title==\"\") & ~(df.title.isna())].title.values, df[~(df.abstract==\"\") & ~(df.abstract.isna())].abstract.values])\n",
    "    X = np.concatenate([df.title.values, df.abstract.values])\n",
    "    FILTERS = \"!\\\"'#$%&()*+,-./:;<=>?@[\\\\]^_`{|}~\"\n",
    "    LOWER = True\n",
    "    CHAR_LEVEL = False\n",
    "    X_tokenizer = Tokenizer(filters=FILTERS, lower=LOWER, char_level=CHAR_LEVEL, oov_token=None)\n",
    "    X_tokenizer.fit_on_texts(X)\n",
    "    X_processed_t, X_processed_a  = np.array(X_tokenizer.texts_to_sequences(df.title.values)), np.array(X_tokenizer.texts_to_sequences(df.abstract.values))\n",
    "    title_tokens, abstract_tokens = X_tokenizer.sequences_to_texts(X_processed_t), X_tokenizer.sequences_to_texts(X_processed_a)\n",
    "    df[\"title_vect\"], df[\"abstract_vect\"] = vectorize_sents(title_tokens, glove, ), vectorize_sents(abstract_tokens, glove)\n",
    "    return df, X_tokenizer"
   ]
  },
  {
   "cell_type": "code",
   "execution_count": 87,
   "metadata": {},
   "outputs": [],
   "source": [
    "df, X_tokenizer = process_df(df, glove)"
   ]
  },
  {
   "cell_type": "code",
   "execution_count": 106,
   "metadata": {},
   "outputs": [],
   "source": [
    "def get_most_similar(query_title):\n",
    "    print(f\"Query Title: \\t\\t {query_title}\")\n",
    "    vp = np.array(X_tokenizer.texts_to_sequences([query_title]))\n",
    "    vp_ = X_tokenizer.sequences_to_texts(vp)\n",
    "    print(f\"processed Query Title:\\t {vp_[0]}\")\n",
    "    v0 = vectorize_sent(vp_[0], glove)\n",
    "#     print(f\"Vector representation: {v0}\")\n",
    "    idx = cdist([v0], np.stack( df[\"title_vect\"].values, axis=0 ), metric='cosine')[0].argsort()[:5]\n",
    "    top_5 = df.title.loc[idx].values\n",
    "    print(f\"Top 5 Similar titles:\\n {top_5}\")"
   ]
  },
  {
   "cell_type": "code",
   "execution_count": 107,
   "metadata": {},
   "outputs": [
    {
     "name": "stdout",
     "output_type": "stream",
     "text": [
      "Query Title: \t\t Real-Time Estimation of the Risk of Death from Novel Coronavirus (COVID-19)\n",
      "processed Query Title:\t real time estimation of the risk of death from novel coronavirus covid 19\n",
      "Top 5 Similar titles:\n",
      " ['Real-Time Estimation of the Risk of Death from Novel Coronavirus (COVID-19) Infection: Inference Using Exported Cases'\n",
      " 'Estimation of the epidemic properties of the 2019 novel coronavirus: A mathematical modeling study'\n",
      " 'Rapid Detection of Novel Coronavirus (COVID-19) by Reverse Transcription- Loop-Mediated Isothermal Amplification'\n",
      " 'Rigidity, normal modes and flexible motion of a SARS-CoV-2 (COVID- 19) protease structure'\n",
      " 'Assessing the impact of reduced travel on exportation dynamics of novel coronavirus infection (COVID-19)']\n"
     ]
    }
   ],
   "source": [
    "get_most_similar('Real-Time Estimation of the Risk of Death from Novel Coronavirus (COVID-19)')"
   ]
  },
  {
   "cell_type": "code",
   "execution_count": 108,
   "metadata": {},
   "outputs": [
    {
     "name": "stdout",
     "output_type": "stream",
     "text": [
      "Query Title: \t\t Real-Time Estimation of the Risk of Death from Novel Coronavirus\n",
      "processed Query Title:\t real time estimation of the risk of death from novel coronavirus\n",
      "Top 5 Similar titles:\n",
      " ['Title: Genome Detective Coronavirus Typing Tool for rapid identification and characterization of novel coronavirus genomes Short title: Automated tool for phylogenetic and mutational analysis of coronaviruses genomes'\n",
      " 'Real-Time Estimation of the Risk of Death from Novel Coronavirus (COVID-19) Infection: Inference Using Exported Cases'\n",
      " 'Role of temperature and humidity in the modulation of the doubling time of COVID-19 cases'\n",
      " 'Comparative analyses of SAR-CoV2 genomes from different geographical locations and other coronavirus family genomes reveals unique features potentially consequential to host-virus interaction and pathogenesis'\n",
      " 'In-silico immune cell deconvolution of the airway proteomes of infants with pneumonia reveals a link between reduced airway eosinophils and an increased risk of mortality']\n"
     ]
    }
   ],
   "source": [
    "get_most_similar('Real-Time Estimation of the Risk of Death from Novel Coronavirus')"
   ]
  },
  {
   "cell_type": "code",
   "execution_count": null,
   "metadata": {},
   "outputs": [],
   "source": [
    "df.head()"
   ]
  },
  {
   "cell_type": "code",
   "execution_count": 134,
   "metadata": {},
   "outputs": [],
   "source": [
    "distances = pdist(np.stack( df[\"title_v\"].sample(30).values, axis=0 ), metric='cosine')\n",
    "dist_matrix = squareform(distances)"
   ]
  },
  {
   "cell_type": "code",
   "execution_count": 135,
   "metadata": {},
   "outputs": [
    {
     "data": {
      "image/png": "[encoded data removed]",
      "text/plain": [
       "<Figure size 432x288 with 2 Axes>"
      ]
     },
     "metadata": {
      "needs_background": "light"
     },
     "output_type": "display_data"
    }
   ],
   "source": [
    "# cosine distance, not similarity\n",
    "plt.imshow(dist_matrix, cmap='hot', interpolation='nearest')\n",
    "plt.colorbar()\n",
    "plt.show()"
   ]
  },
  {
   "cell_type": "code",
   "execution_count": null,
   "metadata": {},
   "outputs": [],
   "source": []
  }
 ],
 "metadata": {
  "kernelspec": {
   "display_name": "Python 3",
   "language": "python",
   "name": "python3"
  },
  "language_info": {
   "codemirror_mode": {
    "name": "ipython",
    "version": 3
   },
   "file_extension": ".py",
   "mimetype": "text/x-python",
   "name": "python",
   "nbconvert_exporter": "python",
   "pygments_lexer": "ipython3",
   "version": "3.7.6"
  }
 },
 "nbformat": 4,
 "nbformat_minor": 4
}
