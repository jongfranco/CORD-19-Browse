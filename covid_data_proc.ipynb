{
 "cells": [
  {
   "cell_type": "code",
   "execution_count": 1,
   "metadata": {},
   "outputs": [],
   "source": [
    "import pandas as pd\n",
    "import json\n",
    "import glob"
   ]
  },
  {
   "cell_type": "code",
   "execution_count": 168,
   "metadata": {},
   "outputs": [],
   "source": [
    "# using only biorxiv_medrxiv for POC, write data from csv\n",
    "fl = glob.glob(\"../data/biorxiv_medrxiv/biorxiv_medrxiv/*.json\")\n",
    "\n",
    "def get_data_v1(fl):\n",
    "    aggregator = []\n",
    "    for each in fl:\n",
    "        with open(each, \"r\") as fr:\n",
    "            data = json.load(fr)\n",
    "            paper_id = data.get(\"paper_id\")\n",
    "            title = data.get(\"metadata\").get(\"title\")\n",
    "            abstract = ''.join([x.get(\"text\") for x in data.get(\"abstract\")])\n",
    "            # abstract paragraphs may not be in order, ignoring that fact.\n",
    "            aggregator.append({\"paper_id\":paper_id, \"title\":title, \"abstract\":abstract})\n",
    "    return pd.DataFrame(aggregator)\n",
    "df = get_data_v1(fl)\n",
    "df.to_csv(\"data.csv\", index=False)"
   ]
  },
  {
   "cell_type": "code",
   "execution_count": 173,
   "metadata": {},
   "outputs": [],
   "source": [
    "# read csv for colab\n",
    "df = pd.read_csv(\"data.csv\")"
   ]
  },
  {
   "cell_type": "code",
   "execution_count": 175,
   "metadata": {},
   "outputs": [
    {
     "data": {
      "text/html": [
       "<div>\n",
       "<style scoped>\n",
       "    .dataframe tbody tr th:only-of-type {\n",
       "        vertical-align: middle;\n",
       "    }\n",
       "\n",
       "    .dataframe tbody tr th {\n",
       "        vertical-align: top;\n",
       "    }\n",
       "\n",
       "    .dataframe thead th {\n",
       "        text-align: right;\n",
       "    }\n",
       "</style>\n",
       "<table border=\"1\" class=\"dataframe\">\n",
       "  <thead>\n",
       "    <tr style=\"text-align: right;\">\n",
       "      <th></th>\n",
       "      <th>abstract</th>\n",
       "      <th>paper_id</th>\n",
       "      <th>title</th>\n",
       "    </tr>\n",
       "  </thead>\n",
       "  <tbody>\n",
       "    <tr>\n",
       "      <th>581</th>\n",
       "      <td>The novel coronavirus disease 2019 (COVID-19) ...</td>\n",
       "      <td>54ae20515fcef8417e255b19df1a5bf6f2ab40bb</td>\n",
       "      <td>Title: Modelling the coronavirus disease (COVI...</td>\n",
       "    </tr>\n",
       "    <tr>\n",
       "      <th>522</th>\n",
       "      <td>Objective: We aim to summarize reliable eviden...</td>\n",
       "      <td>9bf1677e5f822110e736076a4ba6960a80f2f348</td>\n",
       "      <td>Clinical characteristics of 50466 patients wit...</td>\n",
       "    </tr>\n",
       "    <tr>\n",
       "      <th>320</th>\n",
       "      <td>Coronavirus disease-2019 (COVID-19) is a rapid...</td>\n",
       "      <td>f19e2df932f90f387fe71533f3802875d9042160</td>\n",
       "      <td>Lymphopenia predicts disease severity of COVID...</td>\n",
       "    </tr>\n",
       "    <tr>\n",
       "      <th>388</th>\n",
       "      <td>This study builds a SEIRD model that considers...</td>\n",
       "      <td>f24d3b4b4af138be06b7452b7acefc8948bc1056</td>\n",
       "      <td>Beware of asymptomatic transmission: Study on ...</td>\n",
       "    </tr>\n",
       "    <tr>\n",
       "      <th>460</th>\n",
       "      <td>Viruses evolve extremely quickly, so reliable ...</td>\n",
       "      <td>b9dbb79c9e06164c3b7fefce67c11c5d6caf1fcd</td>\n",
       "      <td>Interpretable detection of novel human viruses...</td>\n",
       "    </tr>\n",
       "    <tr>\n",
       "      <th>675</th>\n",
       "      <td>The epidemic caused by the novel coronavirus i...</td>\n",
       "      <td>537009c0181c3269f40753f75ddca4d17ae8abae</td>\n",
       "      <td>Estimating the cure rate and case fatality rat...</td>\n",
       "    </tr>\n",
       "    <tr>\n",
       "      <th>829</th>\n",
       "      <td>Knowledge of the host factors required for nor...</td>\n",
       "      <td>ed0a318f34fe2d65cce6127be009ad7d5f3c7cae</td>\n",
       "      <td>Noroviruses subvert the core stress granule co...</td>\n",
       "    </tr>\n",
       "    <tr>\n",
       "      <th>972</th>\n",
       "      <td>Cases from the ongoing outbreak of atypical pn...</td>\n",
       "      <td>158e546658e42ab0a89d174bc9facb437a034df6</td>\n",
       "      <td>NaN</td>\n",
       "    </tr>\n",
       "    <tr>\n",
       "      <th>744</th>\n",
       "      <td>Lectins are glycan-binding proteins with no ca...</td>\n",
       "      <td>fa6c14304fc37470639d55f97f7903035d768bd2</td>\n",
       "      <td>Pseudomonas aeruginosa lectin LecB impairs ker...</td>\n",
       "    </tr>\n",
       "    <tr>\n",
       "      <th>772</th>\n",
       "      <td>Currently, COVID-19 caused by severe acute res...</td>\n",
       "      <td>6ede7d40a9858d89341de780a3be9e8b43291151</td>\n",
       "      <td>SARS-CoV-2 invades host cells via a novel rout...</td>\n",
       "    </tr>\n",
       "  </tbody>\n",
       "</table>\n",
       "</div>"
      ],
      "text/plain": [
       "                                              abstract  \\\n",
       "581  The novel coronavirus disease 2019 (COVID-19) ...   \n",
       "522  Objective: We aim to summarize reliable eviden...   \n",
       "320  Coronavirus disease-2019 (COVID-19) is a rapid...   \n",
       "388  This study builds a SEIRD model that considers...   \n",
       "460  Viruses evolve extremely quickly, so reliable ...   \n",
       "675  The epidemic caused by the novel coronavirus i...   \n",
       "829  Knowledge of the host factors required for nor...   \n",
       "972  Cases from the ongoing outbreak of atypical pn...   \n",
       "744  Lectins are glycan-binding proteins with no ca...   \n",
       "772  Currently, COVID-19 caused by severe acute res...   \n",
       "\n",
       "                                     paper_id  \\\n",
       "581  54ae20515fcef8417e255b19df1a5bf6f2ab40bb   \n",
       "522  9bf1677e5f822110e736076a4ba6960a80f2f348   \n",
       "320  f19e2df932f90f387fe71533f3802875d9042160   \n",
       "388  f24d3b4b4af138be06b7452b7acefc8948bc1056   \n",
       "460  b9dbb79c9e06164c3b7fefce67c11c5d6caf1fcd   \n",
       "675  537009c0181c3269f40753f75ddca4d17ae8abae   \n",
       "829  ed0a318f34fe2d65cce6127be009ad7d5f3c7cae   \n",
       "972  158e546658e42ab0a89d174bc9facb437a034df6   \n",
       "744  fa6c14304fc37470639d55f97f7903035d768bd2   \n",
       "772  6ede7d40a9858d89341de780a3be9e8b43291151   \n",
       "\n",
       "                                                 title  \n",
       "581  Title: Modelling the coronavirus disease (COVI...  \n",
       "522  Clinical characteristics of 50466 patients wit...  \n",
       "320  Lymphopenia predicts disease severity of COVID...  \n",
       "388  Beware of asymptomatic transmission: Study on ...  \n",
       "460  Interpretable detection of novel human viruses...  \n",
       "675  Estimating the cure rate and case fatality rat...  \n",
       "829  Noroviruses subvert the core stress granule co...  \n",
       "972                                                NaN  \n",
       "744  Pseudomonas aeruginosa lectin LecB impairs ker...  \n",
       "772  SARS-CoV-2 invades host cells via a novel rout...  "
      ]
     },
     "execution_count": 175,
     "metadata": {},
     "output_type": "execute_result"
    }
   ],
   "source": [
    "df.sample(10)"
   ]
  },
  {
   "cell_type": "code",
   "execution_count": 5,
   "metadata": {},
   "outputs": [],
   "source": [
    "from gensim.scripts.glove2word2vec import glove2word2vec\n",
    "from io import BytesIO\n",
    "import matplotlib.pyplot as plt\n",
    "import numpy as np\n",
    "from sklearn.decomposition import PCA\n",
    "from urllib.request import urlopen\n",
    "from zipfile import ZipFile"
   ]
  },
  {
   "cell_type": "code",
   "execution_count": 6,
   "metadata": {},
   "outputs": [
    {
     "data": {
      "text/plain": [
       "['glove.6B.50d.txt',\n",
       " 'glove.6B.100d.txt',\n",
       " 'glove.6B.200d.txt',\n",
       " 'glove.6B.300d.txt']"
      ]
     },
     "execution_count": 6,
     "metadata": {},
     "output_type": "execute_result"
    }
   ],
   "source": [
    "resp = urlopen('http://nlp.stanford.edu/data/glove.6B.zip')\n",
    "zipfile = ZipFile(BytesIO(resp.read()))\n",
    "zipfile.namelist()"
   ]
  },
  {
   "cell_type": "code",
   "execution_count": 7,
   "metadata": {},
   "outputs": [
    {
     "data": {
      "text/plain": [
       "'/Users/sagarkar/PycharmProjects/corona/glove.6B.100d.txt'"
      ]
     },
     "execution_count": 7,
     "metadata": {},
     "output_type": "execute_result"
    }
   ],
   "source": [
    "# Write embeddings to file\n",
    "EMBEDDING_DIM=100\n",
    "embeddings_file = 'glove.6B.{0}d.txt'.format(EMBEDDING_DIM)\n",
    "zipfile.extract(embeddings_file)"
   ]
  },
  {
   "cell_type": "code",
   "execution_count": 8,
   "metadata": {},
   "outputs": [
    {
     "data": {
      "text/plain": [
       "(400000, 100)"
      ]
     },
     "execution_count": 8,
     "metadata": {},
     "output_type": "execute_result"
    }
   ],
   "source": [
    "word2vec_output_file = '{0}.word2vec'.format(embeddings_file)\n",
    "glove2word2vec(embeddings_file, word2vec_output_file)"
   ]
  },
  {
   "cell_type": "code",
   "execution_count": 9,
   "metadata": {},
   "outputs": [],
   "source": [
    "from gensim.models import KeyedVectors\n",
    "glove = KeyedVectors.load_word2vec_format(word2vec_output_file, binary=False)\n"
   ]
  },
  {
   "cell_type": "code",
   "execution_count": 126,
   "metadata": {},
   "outputs": [
    {
     "data": {
      "text/plain": [
       "array([ 0.33396  ,  0.33144  , -0.13395  ,  0.14739  ,  0.3178   ,\n",
       "       -0.02545  ,  0.88513  , -0.12636  , -0.42275  , -0.10626  ,\n",
       "       -0.61972  , -0.70793  ,  0.40188  ,  1.4851   ,  0.077743 ,\n",
       "       -0.37474  ,  0.6901   ,  0.0087892, -0.64876  , -0.45819  ,\n",
       "       -0.43245  , -0.062628 , -0.087284 , -0.078459 , -0.38527  ,\n",
       "        0.79442  ,  0.31637  , -1.3598   , -0.5347   , -0.14641  ,\n",
       "       -0.67635  ,  0.092534 , -0.79324  ,  0.11669  , -1.2946   ,\n",
       "        0.1994   , -1.0341   ,  0.84662  , -0.72092  , -0.32747  ,\n",
       "       -0.53897  ,  0.14541  , -0.6759   , -1.6845   , -0.043898 ,\n",
       "        0.054386 , -0.03124  ,  0.54537  , -0.61069  , -0.017709 ,\n",
       "        0.68863  ,  0.25688  ,  0.19198  ,  0.049682 ,  0.092322 ,\n",
       "       -1.2278   ,  0.0031416, -0.66347  ,  1.4236   , -0.14759  ,\n",
       "        0.73668  ,  0.22449  ,  0.24277  , -0.066424 ,  0.14237  ,\n",
       "        0.19105  ,  0.054326 , -0.095632 ,  0.53485  ,  0.049847 ,\n",
       "       -0.30469  , -0.03444  , -0.12034  ,  1.0387   , -0.26333  ,\n",
       "        0.33784  , -0.30667  ,  0.49615  , -0.79571  , -0.52389  ,\n",
       "        0.42852  ,  0.39931  , -0.96332  ,  0.055409 , -1.6573   ,\n",
       "        0.59245  ,  0.5497   , -0.57027  , -0.97355  , -0.19561  ,\n",
       "        0.90677  , -0.7522   ,  0.8041   ,  0.19258  , -0.87135  ,\n",
       "        0.4546   ,  0.10455  , -0.29158  ,  0.92205  ,  0.55951  ],\n",
       "      dtype=float32)"
      ]
     },
     "execution_count": 126,
     "metadata": {},
     "output_type": "execute_result"
    }
   ],
   "source": [
    "glove.get_vector(\"medicine\")"
   ]
  },
  {
   "cell_type": "code",
   "execution_count": 127,
   "metadata": {},
   "outputs": [],
   "source": [
    "from tensorflow.keras.preprocessing.text import Tokenizer\n",
    "df = df.drop(df[(df.title==\"\") | (df.abstract==\"\")].index).reset_index(drop=True)\n",
    "X = df.title.values\n",
    "FILTERS = \"!\\\"'#$%&()*+,-./:;<=>?@[\\\\]^_`{|}~\"\n",
    "LOWER = True\n",
    "CHAR_LEVEL = False\n",
    "X_tokenizer = Tokenizer(\n",
    "    filters=FILTERS, lower=LOWER, char_level=CHAR_LEVEL, oov_token='<UNK>')\n",
    "X_tokenizer.fit_on_texts(X)\n",
    "X_processed = np.array(X_tokenizer.texts_to_sequences(X))\n",
    "df[\"title_P\"] = X_tokenizer.sequences_to_texts(X_processed)"
   ]
  },
  {
   "cell_type": "code",
   "execution_count": 128,
   "metadata": {},
   "outputs": [],
   "source": [
    "import numpy as np\n",
    "from scipy.spatial.distance import pdist, cdist, squareform\n",
    "\n",
    "def vectorize_sents(sents, g_em):\n",
    "    ret_sents = []\n",
    "    for each in sents:\n",
    "        ret_sents.append(vectorize_sent(each, g_em))\n",
    "    return ret_sents\n",
    "\n",
    "def vectorize_sent(sent, g_em):\n",
    "    sent_vec = np.zeros(EMBEDDING_DIM)\n",
    "    numw = 0\n",
    "    for w in sent:\n",
    "        try:\n",
    "            sent_vec = np.add(sent_vec, g_em.get_vector(w))\n",
    "            numw+=1\n",
    "        except:\n",
    "            pass\n",
    "    return sent_vec / np.sqrt(sent_vec.dot(sent_vec))"
   ]
  },
  {
   "cell_type": "code",
   "execution_count": 129,
   "metadata": {},
   "outputs": [],
   "source": [
    "df[\"title_v\"] = vectorize_sents(df[\"title_P\"], glove)"
   ]
  },
  {
   "cell_type": "code",
   "execution_count": 165,
   "metadata": {},
   "outputs": [],
   "source": [
    "def get_most_similar(query_title):\n",
    "    print(f\"Query Title: {query_title}\")\n",
    "    vp = np.array(X_tokenizer.texts_to_sequences([query_title]))\n",
    "    vp_ = X_tokenizer.sequences_to_texts(vp)\n",
    "    print(f\"processed Query Title: {vp_}\")\n",
    "    v0 = vectorize_sent(vp_[0], glove)\n",
    "    print(f\"Vector representation: {v0}\")\n",
    "    idx = cdist([v0], np.stack( df[\"title_v\"].values, axis=0 ), metric='cosine')[0].argsort()[:5]\n",
    "    top_5 = df.title.loc[idx].values\n",
    "    print(f\"Top 5 Similar titles: {top_5}\")"
   ]
  },
  {
   "cell_type": "code",
   "execution_count": 166,
   "metadata": {},
   "outputs": [
    {
     "name": "stdout",
     "output_type": "stream",
     "text": [
      "Query Title: Real-Time Estimation of the Risk of Death from Novel Coronavirus (COVID-19) Infection: Inference Using Exported Cases\n",
      "processed Query Title: ['real time estimation of the risk of death from novel coronavirus covid 19 infection inference using exported cases']\n",
      "Vector representation: [-0.08944049  0.08030243  0.03130218 -0.03837023 -0.09138199  0.03745923\n",
      "  0.05690668  0.04280562 -0.09157383  0.03873019  0.1567052  -0.11328872\n",
      " -0.10518623  0.09219331 -0.00064739 -0.06460973 -0.01128977  0.01706874\n",
      " -0.01479797  0.05254806  0.12806162  0.0226967   0.01432267  0.09346716\n",
      "  0.03521839  0.13651125  0.06377857  0.01071611  0.06011562 -0.0583953\n",
      "  0.0837486   0.16305072  0.0201432   0.06262094  0.0885884   0.04253153\n",
      "  0.09828649  0.04840956  0.06125467  0.06451439  0.05303501 -0.11661939\n",
      " -0.01133797 -0.13897086 -0.03313486  0.03739668 -0.14473379 -0.00374619\n",
      "  0.03193703 -0.07896253  0.0206585   0.03899542  0.09099418  0.00204729\n",
      " -0.13599264 -0.42545587 -0.02376047  0.06890221  0.29691978  0.08551936\n",
      " -0.08709214 -0.01080699 -0.15212622 -0.0872741   0.17440766  0.11044021\n",
      "  0.13561893  0.13580247  0.08638024  0.06364468 -0.03134415  0.03760579\n",
      " -0.03155657 -0.1053213   0.13286645 -0.0477708   0.03717911 -0.04386392\n",
      " -0.12455355 -0.09082681  0.03069338 -0.19617926 -0.09166309 -0.11739343\n",
      " -0.16336527  0.04830699 -0.03187194 -0.20517976  0.01737647 -0.00774047\n",
      " -0.12955084  0.11314714  0.08123591  0.10622712 -0.0218735  -0.01499276\n",
      " -0.01399799 -0.12595573  0.03747416 -0.04084161]\n",
      "Top 5 Similar titles: ['Real-Time Estimation of the Risk of Death from Novel Coronavirus (COVID-19) Infection: Inference Using Exported Cases'\n",
      " 'Lessons learnt from 288 COVID-19 international cases: importations over time, effect of interventions, underdetection of imported cases'\n",
      " 'The demand for inpatient and ICU beds for COVID-19 in the US: lessons from Chinese cities'\n",
      " 'P a g e Screening and managing of suspected or confirmed novel coronavirus (COVID-19) patients: experiences from a tertiary hospital outside Hubei province'\n",
      " 'Effects of Chinese strategies for controlling the diffusion and deterioration of novel coronavirus-infected pneumonia in China']\n"
     ]
    }
   ],
   "source": [
    "get_most_similar('Real-Time Estimation of the Risk of Death from Novel Coronavirus (COVID-19) Infection: Inference Using Exported Cases')"
   ]
  },
  {
   "cell_type": "code",
   "execution_count": 132,
   "metadata": {},
   "outputs": [
    {
     "data": {
      "text/html": [
       "<div>\n",
       "<style scoped>\n",
       "    .dataframe tbody tr th:only-of-type {\n",
       "        vertical-align: middle;\n",
       "    }\n",
       "\n",
       "    .dataframe tbody tr th {\n",
       "        vertical-align: top;\n",
       "    }\n",
       "\n",
       "    .dataframe thead th {\n",
       "        text-align: right;\n",
       "    }\n",
       "</style>\n",
       "<table border=\"1\" class=\"dataframe\">\n",
       "  <thead>\n",
       "    <tr style=\"text-align: right;\">\n",
       "      <th></th>\n",
       "      <th>abstract</th>\n",
       "      <th>paper_id</th>\n",
       "      <th>title</th>\n",
       "      <th>title_P</th>\n",
       "      <th>title_v</th>\n",
       "    </tr>\n",
       "  </thead>\n",
       "  <tbody>\n",
       "    <tr>\n",
       "      <th>0</th>\n",
       "      <td>New anti-AIDS treatments must be continually d...</td>\n",
       "      <td>f905f78b32f63c6d14a79984dfb33f1b358b8ab4</td>\n",
       "      <td>Multimerization of HIV-1 integrase hinges on c...</td>\n",
       "      <td>multimerization of hiv 1 integrase hinges on c...</td>\n",
       "      <td>[-0.08428442041133981, 0.08764245487167917, 0....</td>\n",
       "    </tr>\n",
       "    <tr>\n",
       "      <th>1</th>\n",
       "      <td>Rationale: Several studies have estimated basi...</td>\n",
       "      <td>abcfffafab399149d4adadd6bb458c4994e2025d</td>\n",
       "      <td>Time-varying transmission dynamics of Novel Co...</td>\n",
       "      <td>time varying transmission dynamics of novel co...</td>\n",
       "      <td>[-0.08048400960892867, 0.0837210941022766, 0.0...</td>\n",
       "    </tr>\n",
       "    <tr>\n",
       "      <th>2</th>\n",
       "      <td>Summary Statement: DUX4 is thought to mediate ...</td>\n",
       "      <td>0cb9c296684ca5e71462d825cab2827854a01544</td>\n",
       "      <td>p53 is not necessary for DUX4 pathology</td>\n",
       "      <td>p53 is not necessary for dux4 pathology</td>\n",
       "      <td>[-0.08063293655889561, 0.08293353992491624, 0....</td>\n",
       "    </tr>\n",
       "    <tr>\n",
       "      <th>3</th>\n",
       "      <td>emerged in late 2019 1,2 . Initial outbreaks i...</td>\n",
       "      <td>9bbfd3d34ee18ea1b9f4669331a6cee9c5992893</td>\n",
       "      <td>Virological assessment of hospitalized cases o...</td>\n",
       "      <td>virological assessment of hospitalized cases o...</td>\n",
       "      <td>[-0.07290673353974543, 0.0911513279907879, 0.0...</td>\n",
       "    </tr>\n",
       "    <tr>\n",
       "      <th>4</th>\n",
       "      <td>A novel coronavirus (SARS-CoV-2) first detecte...</td>\n",
       "      <td>1218f278a4f8d83dac14b23c8f698062812ef9d5</td>\n",
       "      <td>Potential impact of seasonal forcing on a SARS...</td>\n",
       "      <td>potential impact of seasonal forcing on a sars...</td>\n",
       "      <td>[-0.08420929942660703, 0.09190924287475682, 0....</td>\n",
       "    </tr>\n",
       "  </tbody>\n",
       "</table>\n",
       "</div>"
      ],
      "text/plain": [
       "                                            abstract  \\\n",
       "0  New anti-AIDS treatments must be continually d...   \n",
       "1  Rationale: Several studies have estimated basi...   \n",
       "2  Summary Statement: DUX4 is thought to mediate ...   \n",
       "3  emerged in late 2019 1,2 . Initial outbreaks i...   \n",
       "4  A novel coronavirus (SARS-CoV-2) first detecte...   \n",
       "\n",
       "                                   paper_id  \\\n",
       "0  f905f78b32f63c6d14a79984dfb33f1b358b8ab4   \n",
       "1  abcfffafab399149d4adadd6bb458c4994e2025d   \n",
       "2  0cb9c296684ca5e71462d825cab2827854a01544   \n",
       "3  9bbfd3d34ee18ea1b9f4669331a6cee9c5992893   \n",
       "4  1218f278a4f8d83dac14b23c8f698062812ef9d5   \n",
       "\n",
       "                                               title  \\\n",
       "0  Multimerization of HIV-1 integrase hinges on c...   \n",
       "1  Time-varying transmission dynamics of Novel Co...   \n",
       "2            p53 is not necessary for DUX4 pathology   \n",
       "3  Virological assessment of hospitalized cases o...   \n",
       "4  Potential impact of seasonal forcing on a SARS...   \n",
       "\n",
       "                                             title_P  \\\n",
       "0  multimerization of hiv 1 integrase hinges on c...   \n",
       "1  time varying transmission dynamics of novel co...   \n",
       "2            p53 is not necessary for dux4 pathology   \n",
       "3  virological assessment of hospitalized cases o...   \n",
       "4  potential impact of seasonal forcing on a sars...   \n",
       "\n",
       "                                             title_v  \n",
       "0  [-0.08428442041133981, 0.08764245487167917, 0....  \n",
       "1  [-0.08048400960892867, 0.0837210941022766, 0.0...  \n",
       "2  [-0.08063293655889561, 0.08293353992491624, 0....  \n",
       "3  [-0.07290673353974543, 0.0911513279907879, 0.0...  \n",
       "4  [-0.08420929942660703, 0.09190924287475682, 0....  "
      ]
     },
     "execution_count": 132,
     "metadata": {},
     "output_type": "execute_result"
    }
   ],
   "source": [
    "df.head()"
   ]
  },
  {
   "cell_type": "code",
   "execution_count": 134,
   "metadata": {},
   "outputs": [],
   "source": [
    "distances = pdist(np.stack( df[\"title_v\"].sample(30).values, axis=0 ), metric='cosine')\n",
    "dist_matrix = squareform(distances)"
   ]
  },
  {
   "cell_type": "code",
   "execution_count": 135,
   "metadata": {},
   "outputs": [
    {
     "data": {
      "image/png": "[encoded data removed]",
      "text/plain": [
       "<Figure size 432x288 with 2 Axes>"
      ]
     },
     "metadata": {
      "needs_background": "light"
     },
     "output_type": "display_data"
    }
   ],
   "source": [
    "# cosine distance, not similarity\n",
    "plt.imshow(dist_matrix, cmap='hot', interpolation='nearest')\n",
    "plt.colorbar()\n",
    "plt.show()"
   ]
  },
  {
   "cell_type": "code",
   "execution_count": null,
   "metadata": {},
   "outputs": [],
   "source": []
  }
 ],
 "metadata": {
  "kernelspec": {
   "display_name": "Python 3",
   "language": "python",
   "name": "python3"
  },
  "language_info": {
   "codemirror_mode": {
    "name": "ipython",
    "version": 3
   },
   "file_extension": ".py",
   "mimetype": "text/x-python",
   "name": "python",
   "nbconvert_exporter": "python",
   "pygments_lexer": "ipython3",
   "version": "3.7.6"
  }
 },
 "nbformat": 4,
 "nbformat_minor": 4
}
